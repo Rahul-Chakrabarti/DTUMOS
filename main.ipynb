{
 "cells": [
  {
   "cell_type": "markdown",
   "metadata": {},
   "source": [
    "#### DTUMOS 0단계  \n",
    "-시뮬레이션을 하는 데이터를 시뮬레이션 module에 맞게 정제하며, 본인이 원하는 분석 시간 범위를 결정한다."
   ]
  },
  {
   "cell_type": "markdown",
   "metadata": {},
   "source": [
    "1.\tDownload your dataset for New York Taxi Trips: https://www.kaggle.com/competitions/nyc-taxi-trip-duration/data     \n",
    "2. To read and write the data, create these sub folders in your DTUMOS Folder:    \n",
    "        - DTUMOS -> data  \n",
    "        - data -> raw_data -> \"Keep your train.csv from the dataset here and any other required files\"    \n",
    "        - data -> result_data -> all_data  \n",
    "        - data -> result_data -> dashboard_plot   \n",
    "        - data -> result_data -> simulation_data  \n",
    "3. Download and Install Anaconda, set the correct paths.      \n",
    "        Create a Conda Env by running the following commands in your VS Code terminal:    \n",
    "        - conda create -n dtumos python=3.11.11 -y  \n",
    "        - conda activate dtumos  \n",
    "3.\tCreate Jupyter Kernel:  \n",
    "        - python -m ipykernel install --user --name dtumos --display-name \" DTUMOS\"  \n",
    "4.\tInstall the required Libraries in that kernel by running the requirements.txt in the next cell.  "
   ]
  },
  {
   "cell_type": "code",
   "execution_count": null,
   "metadata": {},
   "outputs": [],
   "source": [
    "!pip install -r requirements.txt"
   ]
  },
  {
   "cell_type": "code",
   "execution_count": 2,
   "metadata": {},
   "outputs": [
    {
     "name": "stderr",
     "output_type": "stream",
     "text": [
      "c:\\Users\\Mubarak\\anaconda3\\envs\\dtumos\\Lib\\site-packages\\pandas\\core\\dtypes\\cast.py:127: ShapelyDeprecationWarning: The array interface is deprecated and will no longer work in Shapely 2.0. Convert the '.coords' to a numpy array instead.\n",
      "  arr = construct_1d_object_array_from_listlike(values)\n",
      "c:\\Users\\Mubarak\\anaconda3\\envs\\dtumos\\Lib\\site-packages\\pandas\\core\\dtypes\\cast.py:127: ShapelyDeprecationWarning: The array interface is deprecated and will no longer work in Shapely 2.0. Convert the '.coords' to a numpy array instead.\n",
      "  arr = construct_1d_object_array_from_listlike(values)\n"
     ]
    }
   ],
   "source": [
    "import pandas as pd\n",
    "from shapely.geometry import Point\n",
    "\n",
    "taxi_raw_data = pd.read_csv(\"./data/raw_data/train.csv\")\n",
    "essential_columns = ['id', 'pickup_datetime', 'dropoff_datetime', 'pickup_longitude', 'pickup_latitude', 'dropoff_longitude', 'dropoff_latitude']\n",
    "taxi_raw_data = taxi_raw_data[essential_columns]\n",
    "\n",
    "taxi_raw_data = taxi_raw_data.rename(columns={'id':'taxi_id', 'pickup_datetime':'ride_time','dropoff_datetime':'alight_time',\n",
    "                                              'pickup_longitude':'ride_lon', 'pickup_latitude':'ride_lat', 'dropoff_longitude':'alight_lon', \n",
    "                                              'dropoff_latitude':'alight_lat'})\n",
    "\n",
    "# 문자열로 되어 있는 시간을 datetime type으로 변경\n",
    "taxi_raw_data['ride_time'] = pd.to_datetime(taxi_raw_data['ride_time'], format='%Y-%m-%d %H:%M:%S')\n",
    "# taxi_raw_data['ride_time'] = pd.to_datetime(taxi_raw_data['ride_time'], format='%m-%d-%Y %H:%M')\n",
    "taxi_raw_data['alight_time'] = pd.to_datetime(taxi_raw_data['alight_time'], format='%Y-%m-%d %H:%M:%S')\n",
    "# taxi_raw_data['alight_time'] = pd.to_datetime(taxi_raw_data['alight_time'], format='%m-%d-%Y %H:%M')\n",
    "\n",
    "# 분석 타겟 시간은 2016-04-08 \n",
    "taxi_raw_data = taxi_raw_data.loc[(taxi_raw_data['ride_time'] >= pd.Timestamp(2016,4,8)) & (taxi_raw_data['alight_time'] < pd.Timestamp(2016,4,9))]\n",
    "\n",
    "taxi_raw_data['ride_geometry'] = [Point(i[0],i[1]) for i in taxi_raw_data[['ride_lon', 'ride_lat']].values]\n",
    "taxi_raw_data['alight_geometry'] = [Point(i[0],i[1]) for i in taxi_raw_data[['alight_lon', 'alight_lat']].values]"
   ]
  },
  {
   "cell_type": "code",
   "execution_count": 3,
   "metadata": {},
   "outputs": [
    {
     "name": "stdout",
     "output_type": "stream",
     "text": [
      "       taxi_id           ride_time         alight_time   ride_lon   ride_lat  \\\n",
      "278  id2165807 2016-04-08 20:19:55 2016-04-08 20:23:06 -74.003929  40.725796   \n",
      "384  id2899891 2016-04-08 15:26:22 2016-04-08 15:38:13 -73.974197  40.757496   \n",
      "507  id1647538 2016-04-08 19:54:06 2016-04-08 20:05:41 -73.980942  40.757832   \n",
      "974  id2299069 2016-04-08 00:26:47 2016-04-08 00:35:37 -73.983269  40.757763   \n",
      "989  id0862403 2016-04-08 07:05:14 2016-04-08 07:19:43 -73.982399  40.777493   \n",
      "\n",
      "     alight_lon  alight_lat                                 ride_geometry  \\\n",
      "278  -73.998878   40.734764  POINT (-74.00392913818358 40.72579574584961)   \n",
      "384  -73.959839   40.775490  POINT (-73.97419738769531 40.75749588012695)   \n",
      "507  -73.991051   40.760487  POINT (-73.98094177246092 40.75783157348633)   \n",
      "974  -73.968132   40.757317  POINT (-73.98326873779298 40.75776290893555)   \n",
      "989  -73.939621   40.805264   POINT (-73.9823989868164 40.77749252319336)   \n",
      "\n",
      "                                  alight_geometry  \n",
      "278   POINT (-73.9988784790039 40.73476409912109)  \n",
      "384  POINT (-73.9598388671875 40.775489807128906)  \n",
      "507   POINT (-73.99105072021484 40.7604866027832)  \n",
      "974  POINT (-73.96813201904298 40.75731658935546)  \n",
      "989  POINT (-73.93962097167967 40.80526351928711)  \n"
     ]
    }
   ],
   "source": [
    "print(taxi_raw_data.head())"
   ]
  },
  {
   "cell_type": "code",
   "execution_count": 4,
   "metadata": {},
   "outputs": [
    {
     "data": {
      "text/plain": [
       "(9061, 9)"
      ]
     },
     "execution_count": 4,
     "metadata": {},
     "output_type": "execute_result"
    }
   ],
   "source": [
    "taxi_raw_data.shape"
   ]
  },
  {
   "cell_type": "code",
   "execution_count": 5,
   "metadata": {},
   "outputs": [
    {
     "name": "stdout",
     "output_type": "stream",
     "text": [
      "\n",
      "Number of invalid timestamps: 0\n"
     ]
    }
   ],
   "source": [
    "# print(\"Sample ride_time values:\")\n",
    "\n",
    "print(\"\\nNumber of invalid timestamps:\", taxi_raw_data['ride_time'].isna().sum())"
   ]
  },
  {
   "cell_type": "markdown",
   "metadata": {},
   "source": [
    "---\n",
    "#### DTUMOS 1단계\n",
    "- convert_data.py\n",
    "    - generate_random_location.py"
   ]
  },
  {
   "cell_type": "code",
   "execution_count": 6,
   "metadata": {},
   "outputs": [
    {
     "name": "stdout",
     "output_type": "stream",
     "text": [
      "c:\\Users\\Mubarak\\anaconda3\\envs\\dtumos\\python.exe\n"
     ]
    }
   ],
   "source": [
    "import sys\n",
    "print(sys.executable)"
   ]
  },
  {
   "cell_type": "code",
   "execution_count": 7,
   "metadata": {},
   "outputs": [],
   "source": [
    "from module.convert_data import generate_simulation_base_data\n",
    "passenger, taxi, YMD = generate_simulation_base_data(taxi_raw_data, target_place='New York County')"
   ]
  },
  {
   "cell_type": "markdown",
   "metadata": {},
   "source": [
    "---"
   ]
  },
  {
   "cell_type": "code",
   "execution_count": 8,
   "metadata": {},
   "outputs": [
    {
     "data": {
      "image/png": "[encoded data removed]",
      "text/plain": [
       "<Figure size 576x576 with 1 Axes>"
      ]
     },
     "metadata": {},
     "output_type": "display_data"
    },
    {
     "data": {
      "text/plain": [
       "(<Figure size 576x576 with 1 Axes>, <Axes: >)"
      ]
     },
     "execution_count": 8,
     "metadata": {},
     "output_type": "execute_result"
    }
   ],
   "source": [
    "import osmnx as ox\n",
    "\n",
    "# Download and plot a map of a city\n",
    "place = \"New York County\"\n",
    "graph = ox.graph_from_place(place, network_type=\"drive\")\n",
    "ox.plot_graph(graph)"
   ]
  },
  {
   "cell_type": "markdown",
   "metadata": {},
   "source": [
    "To Connect to OSRM:\n",
    "1. Download the latest New York OSM file in pbf format, possibly from: https://download.geofabrik.de/north-america/us/new-york.html and save it in raw_data folder. \n",
    "2. Download, install and run the Docker.   \n",
    "3. Install WSL in your Windows PowerShell and start it.     \n",
    "4. Go to the directory in which your downloaded New York OSM is located. \n",
    "5. Run the following 4 commands one at a time in the following order:  \n",
    " - docker run -t -v \"${PWD}:/data\" ghcr.io/project-osrm/osrm-backend osrm-extract -p /opt/car.lua /data/new-york-latest.osm.pbf || echo \"osrm-extract failed\"\n",
    " - docker run -t -v \"${PWD}:/data\" ghcr.io/project-osrm/osrm-backend osrm-partition /data/new-york-latest.osrm || echo \"osrm-partition failed\"  \n",
    " - docker run -t -v \"${PWD}:/data\" ghcr.io/project-osrm/osrm-backend osrm-customize /data/new-york-latest.osrm || echo \"osrm-customize failed\"    \n",
    " - docker run -t -i -p 5000:5000 -v \"${PWD}:/data\" ghcr.io/project-osrm/osrm-backend osrm-routed --algorithm mld /data/new-york-latest.osrm  \n",
    "6. Run the next cell.    \n"
   ]
  },
  {
   "cell_type": "code",
   "execution_count": 10,
   "metadata": {},
   "outputs": [
    {
     "name": "stderr",
     "output_type": "stream",
     "text": [
      "100%|██████████| 1440/1440 [1:20:39<00:00,  3.36s/it]\n"
     ]
    }
   ],
   "source": [
    "from module.dispatch_helper import *\n",
    "from module.dashboard_plot import *\n",
    "import pickle\n",
    "\n",
    "result = dispatch_module(passenger, taxi, YMD, dispatch_mode='OSRM')\n",
    "\n",
    "#all data save\n",
    "result[2].extend([passenger, taxi, YMD])\n",
    "\n",
    "with open('./data/result_data/all_data/result.pickle', 'wb') as f:\n",
    "    pickle.dump(result, f)"
   ]
  },
  {
   "cell_type": "code",
   "execution_count": 11,
   "metadata": {},
   "outputs": [
    {
     "name": "stdout",
     "output_type": "stream",
     "text": [
      "complete_dash_plot!!\n"
     ]
    }
   ],
   "source": [
    "from module.dashboard_plot import *\n",
    "import pickle\n",
    "\n",
    "with open('./data/result_data/all_data/result.pickle', 'rb') as f:\n",
    "    result = pickle.load(f)\n",
    "    \n",
    "make_dashboard_plot(result, path='./data/result_data/dashboard_plot/')"
   ]
  },
  {
   "cell_type": "code",
   "execution_count": 12,
   "metadata": {},
   "outputs": [],
   "source": [
    "import json\n",
    "import pickle\n",
    "\n",
    "### simulation data save\n",
    "trips_simulation_data, passenger_simulation_data , empty_taxi_simulation_data = result[0]\n",
    "\n",
    "# trip\n",
    "with open(f'./data/result_data/simulation_data/trip.json', 'w') as f:\n",
    "    json.dump(trips_simulation_data,f)\n",
    "\n",
    "# passenger\n",
    "with open(f'./data/result_data/simulation_data/passenger.json', 'w') as f:\n",
    "    json.dump(passenger_simulation_data,f)\n",
    "\n",
    "# empty_taxi\n",
    "with open(f'./data/result_data/simulation_data/empty_taxi.json', 'w') as f:\n",
    "    json.dump(empty_taxi_simulation_data,f)"
   ]
  }
 ],
 "metadata": {
  "kernelspec": {
   "display_name": "DTUMOS",
   "language": "python",
   "name": "dtumos"
  },
  "language_info": {
   "codemirror_mode": {
    "name": "ipython",
    "version": 3
   },
   "file_extension": ".py",
   "mimetype": "text/x-python",
   "name": "python",
   "nbconvert_exporter": "python",
   "pygments_lexer": "ipython3",
   "version": "3.11.11"
  },
  "orig_nbformat": 4
 },
 "nbformat": 4,
 "nbformat_minor": 2
}
